{
 "cells": [
  {
   "cell_type": "markdown",
   "id": "15f0abc6",
   "metadata": {},
   "source": [
    "# Stopwords Removal"
   ]
  },
  {
   "cell_type": "code",
   "execution_count": 1,
   "id": "2b5f9512",
   "metadata": {},
   "outputs": [],
   "source": [
    "import nltk\n",
    "from nltk.corpus import stopwords\n",
    "from nltk.tokenize import word_tokenize\n"
   ]
  },
  {
   "cell_type": "code",
   "execution_count": 5,
   "id": "66e848b8",
   "metadata": {},
   "outputs": [
    {
     "name": "stdout",
     "output_type": "stream",
     "text": [
      "198\n"
     ]
    }
   ],
   "source": [
    "print(len(stopwords.words('english')))"
   ]
  },
  {
   "cell_type": "code",
   "execution_count": 7,
   "id": "13b91e77",
   "metadata": {},
   "outputs": [
    {
     "data": {
      "text/plain": [
       "['now',\n",
       " 'we',\n",
       " 'will',\n",
       " 'tokenize',\n",
       " 'this',\n",
       " 'and',\n",
       " 'then',\n",
       " 'remove',\n",
       " 'stopwords',\n",
       " 'from',\n",
       " 'that',\n",
       " '.']"
      ]
     },
     "execution_count": 7,
     "metadata": {},
     "output_type": "execute_result"
    }
   ],
   "source": [
    "text = \"now we will tokenize this and then remove stopwords from that.\"\n",
    "tokens = word_tokenize(text)\n",
    "tokens"
   ]
  },
  {
   "cell_type": "code",
   "execution_count": 8,
   "id": "a42602b7",
   "metadata": {},
   "outputs": [],
   "source": [
    "stop_words = stopwords.words('english')"
   ]
  },
  {
   "cell_type": "code",
   "execution_count": 9,
   "id": "b76f2755",
   "metadata": {},
   "outputs": [
    {
     "data": {
      "text/plain": [
       "['tokenize', 'remove', 'stopwords', '.']"
      ]
     },
     "execution_count": 9,
     "metadata": {},
     "output_type": "execute_result"
    }
   ],
   "source": [
    "filtered_tokens = [word for word in tokens if word.lower() not in stop_words]\n",
    "filtered_tokens"
   ]
  },
  {
   "cell_type": "markdown",
   "id": "68abb926",
   "metadata": {},
   "source": [
    "# Stemming"
   ]
  },
  {
   "cell_type": "markdown",
   "id": "18af8619",
   "metadata": {},
   "source": [
    "**1) PorterStemmer** -> It is simple, widley used but sometimes it gives inaccurate results like \"easily\" --> \"easili\""
   ]
  },
  {
   "cell_type": "code",
   "execution_count": 1,
   "id": "31a950ee",
   "metadata": {},
   "outputs": [],
   "source": [
    "import nltk"
   ]
  },
  {
   "cell_type": "code",
   "execution_count": 2,
   "id": "e7303b52",
   "metadata": {},
   "outputs": [],
   "source": [
    "from nltk.stem import PorterStemmer"
   ]
  },
  {
   "cell_type": "code",
   "execution_count": 3,
   "id": "1673ad5b",
   "metadata": {},
   "outputs": [],
   "source": [
    "st = PorterStemmer()"
   ]
  },
  {
   "cell_type": "code",
   "execution_count": 4,
   "id": "bc6ecade",
   "metadata": {},
   "outputs": [
    {
     "data": {
      "text/plain": [
       "['run', 'runner', 'ran', 'easili', ' fairli']"
      ]
     },
     "execution_count": 4,
     "metadata": {},
     "output_type": "execute_result"
    }
   ],
   "source": [
    "words = [\"running\", \"runner\", \"ran\", \"easily\", \" fairly\"]\n",
    "stemmed_words = [st.stem(word) for word in words]\n",
    "\n",
    "stemmed_words"
   ]
  },
  {
   "cell_type": "markdown",
   "id": "6437aa66",
   "metadata": {},
   "source": [
    "**2) RegexpStemmer: It is Fully customizable, can used for multilanguage. But Regex patterns can fail for irregular words**"
   ]
  },
  {
   "cell_type": "code",
   "execution_count": 5,
   "id": "bb09f701",
   "metadata": {},
   "outputs": [
    {
     "data": {
      "text/plain": [
       "['runn', 'runner', 'ran', 'easily', ' fairly']"
      ]
     },
     "execution_count": 5,
     "metadata": {},
     "output_type": "execute_result"
    }
   ],
   "source": [
    "from nltk.stem import RegexpStemmer\n",
    "\n",
    "Rst = RegexpStemmer('ing$|s$|e$|able$') #'$' --> Word ending with and '|' --> Or in Regex patterns\n",
    "\n",
    "[Rst.stem(word) for word in words]\n"
   ]
  },
  {
   "cell_type": "markdown",
   "id": "b5070b1f",
   "metadata": {},
   "source": [
    "**3) SnowballStemmer: Often more accurate than Porter, supports multiple language.**"
   ]
  },
  {
   "cell_type": "code",
   "execution_count": 7,
   "id": "73a0ac6e",
   "metadata": {},
   "outputs": [
    {
     "data": {
      "text/plain": [
       "['run', 'runner', 'ran', 'easili', ' fair']"
      ]
     },
     "execution_count": 7,
     "metadata": {},
     "output_type": "execute_result"
    }
   ],
   "source": [
    "from nltk.stem import SnowballStemmer\n",
    "\n",
    "sst = SnowballStemmer('english')\n",
    "[sst.stem(word) for word in words]"
   ]
  },
  {
   "cell_type": "code",
   "execution_count": 9,
   "id": "6feb6670",
   "metadata": {},
   "outputs": [
    {
     "data": {
      "text/plain": [
       "['run', 'runner', 'ran', 'easili', ' fair']"
      ]
     },
     "execution_count": 9,
     "metadata": {},
     "output_type": "execute_result"
    }
   ],
   "source": [
    "#If we know the language specifically then we can do as below too\n",
    "from nltk.stem.snowball import EnglishStemmer\n",
    "\n",
    "engST = EnglishStemmer()\n",
    "[engST.stem(word) for word in words]"
   ]
  },
  {
   "cell_type": "code",
   "execution_count": null,
   "id": "c85d5249",
   "metadata": {},
   "outputs": [],
   "source": []
  }
 ],
 "metadata": {
  "kernelspec": {
   "display_name": "base",
   "language": "python",
   "name": "python3"
  },
  "language_info": {
   "codemirror_mode": {
    "name": "ipython",
    "version": 3
   },
   "file_extension": ".py",
   "mimetype": "text/x-python",
   "name": "python",
   "nbconvert_exporter": "python",
   "pygments_lexer": "ipython3",
   "version": "3.12.7"
  }
 },
 "nbformat": 4,
 "nbformat_minor": 5
}
