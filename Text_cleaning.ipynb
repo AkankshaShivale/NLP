{
 "cells": [
  {
   "cell_type": "markdown",
   "id": "e0bdfe9d",
   "metadata": {},
   "source": [
    "## Text Cleaning"
   ]
  },
  {
   "cell_type": "markdown",
   "id": "e2b3b8fe",
   "metadata": {},
   "source": [
    "**Punctuation removal**"
   ]
  },
  {
   "cell_type": "code",
   "execution_count": 3,
   "id": "f03597e8",
   "metadata": {},
   "outputs": [
    {
     "data": {
      "text/plain": [
       "'!\"#$%&\\'()*+,-./:;<=>?@[\\\\]^_`{|}~'"
      ]
     },
     "execution_count": 3,
     "metadata": {},
     "output_type": "execute_result"
    }
   ],
   "source": [
    "import string\n",
    "string.punctuation"
   ]
  },
  {
   "cell_type": "code",
   "execution_count": 10,
   "id": "26b17d04",
   "metadata": {},
   "outputs": [
    {
     "data": {
      "text/plain": [
       "['Lets', 'clean', 'this', '']"
      ]
     },
     "execution_count": 10,
     "metadata": {},
     "output_type": "execute_result"
    }
   ],
   "source": [
    "Tokens = [\"Let's/\", \"clean@\", \"this!!!\",\"%&\"]\n",
    "\n",
    "removed_punch_1 = [\"\".join(char for char in word if char not in string.punctuation) for word in Tokens]\n",
    "removed_punch_1"
   ]
  },
  {
   "cell_type": "code",
   "execution_count": 12,
   "id": "c46bce4c",
   "metadata": {},
   "outputs": [],
   "source": [
    "removed_punch = [word for word in removed_punch_1 if word]"
   ]
  },
  {
   "cell_type": "code",
   "execution_count": 13,
   "id": "d06711c4",
   "metadata": {},
   "outputs": [
    {
     "data": {
      "text/plain": [
       "['Lets', 'clean', 'this']"
      ]
     },
     "execution_count": 13,
     "metadata": {},
     "output_type": "execute_result"
    }
   ],
   "source": [
    "removed_punch"
   ]
  },
  {
   "cell_type": "markdown",
   "id": "cbb94f5f",
   "metadata": {},
   "source": [
    "**Punctuation and numbers removal via regex:**"
   ]
  },
  {
   "cell_type": "code",
   "execution_count": 16,
   "id": "80001a41",
   "metadata": {},
   "outputs": [
    {
     "data": {
      "text/plain": [
       "'hey this is paragraph created to clean the numbers  and the special characters like  etc'"
      ]
     },
     "execution_count": 16,
     "metadata": {},
     "output_type": "execute_result"
    }
   ],
   "source": [
    "import re\n",
    "\n",
    "def clean_text(text):\n",
    "    return re.sub(r'[^A-Za-z\\s]','',text)\n",
    "\n",
    "para = 'hey this is paragraph created to clean the numbers 123456789 and the special characters like @#$%^& etc'\n",
    "\n",
    "clean_text(para)"
   ]
  },
  {
   "cell_type": "markdown",
   "id": "68f7cc19",
   "metadata": {},
   "source": [
    "**Removal of extra white spaces**"
   ]
  },
  {
   "cell_type": "code",
   "execution_count": 21,
   "id": "f8d000be",
   "metadata": {},
   "outputs": [
    {
     "data": {
      "text/plain": [
       "'This is text with extra white spaces'"
      ]
     },
     "execution_count": 21,
     "metadata": {},
     "output_type": "execute_result"
    }
   ],
   "source": [
    "text = \" This    is     text with           extra  white spaces   \"\n",
    "\n",
    "new_text  = \" \".join(text.split())\n",
    "new_text"
   ]
  },
  {
   "cell_type": "code",
   "execution_count": null,
   "id": "5dea96ed",
   "metadata": {},
   "outputs": [],
   "source": []
  }
 ],
 "metadata": {
  "kernelspec": {
   "display_name": "base",
   "language": "python",
   "name": "python3"
  },
  "language_info": {
   "codemirror_mode": {
    "name": "ipython",
    "version": 3
   },
   "file_extension": ".py",
   "mimetype": "text/x-python",
   "name": "python",
   "nbconvert_exporter": "python",
   "pygments_lexer": "ipython3",
   "version": "3.12.7"
  }
 },
 "nbformat": 4,
 "nbformat_minor": 5
}
